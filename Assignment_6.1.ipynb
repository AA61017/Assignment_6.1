{
 "cells": [
  {
   "cell_type": "code",
   "execution_count": 69,
   "metadata": {},
   "outputs": [
    {
     "name": "stdout",
     "output_type": "stream",
     "text": [
      "Printing Alexandre-Theophile Vandermonde using myVander(x, N, True)\n",
      "[[1, 1, 1, 1], [1, 2, 4, 8], [1, 3, 9, 27], [1, 5, 25, 125]]\n",
      "Printing Alexandre-Theophile Vandermonde using built in function np.vander\n",
      "[[  1   1   1   1]\n",
      " [  1   2   4   8]\n",
      " [  1   3   9  27]\n",
      " [  1   5  25 125]]\n",
      "-----------------------------------------------------------------\n",
      "Printing Alexandre-Theophile Vandermonde using myVander(x, N, True)\n",
      "[[1, 1, 1, 1], [8, 4, 2, 1], [27, 9, 3, 1], [125, 25, 5, 1]]\n",
      "Printing Alexandre-Theophile Vandermonde using built in function np.vander\n",
      "[[  1   1   1   1]\n",
      " [  8   4   2   1]\n",
      " [ 27   9   3   1]\n",
      " [125  25   5   1]]\n"
     ]
    }
   ],
   "source": [
    "#Implement a matrix with a geometric progression in each row is named for Alexandre-Theophile Vandermonde.\n",
    "import numpy as np\n",
    "def myVander(x, N, flag):\n",
    "    listx=[]\n",
    "    for i in x:\n",
    "        list1=[]\n",
    "        if(flag):\n",
    "            list1 = [i**j for j in range(0,N,1)]\n",
    "        else:\n",
    "            list1 = [i**j for j in range(N-1,-1,-1)]\n",
    "        listx.append(list1)\n",
    "        \n",
    "    return(listx) \n",
    "\n",
    "x = np.array([1, 2, 3, 5])\n",
    "N = 4\n",
    "print('Printing Alexandre-Theophile Vandermonde using myVander(x, N, True)')\n",
    "retList = myVander(x, N, True)\n",
    "print(retList)\n",
    "print('Printing Alexandre-Theophile Vandermonde using built in function np.vander')\n",
    "print(np.vander(x, N, True))\n",
    "print(\"-----------------------------------------------------------------\")\n",
    "print('Printing Alexandre-Theophile Vandermonde using myVander(x, N, True)')\n",
    "retList = myVander(x, N, False)\n",
    "print(retList)\n",
    "print('Printing Alexandre-Theophile Vandermonde using built in function np.vander')\n",
    "print(np.vander(x, N, False))"
   ]
  },
  {
   "cell_type": "code",
   "execution_count": null,
   "metadata": {},
   "outputs": [],
   "source": []
  }
 ],
 "metadata": {
  "kernelspec": {
   "display_name": "Python 3",
   "language": "python",
   "name": "python3"
  },
  "language_info": {
   "codemirror_mode": {
    "name": "ipython",
    "version": 3
   },
   "file_extension": ".py",
   "mimetype": "text/x-python",
   "name": "python",
   "nbconvert_exporter": "python",
   "pygments_lexer": "ipython3",
   "version": "3.6.4"
  }
 },
 "nbformat": 4,
 "nbformat_minor": 2
}
